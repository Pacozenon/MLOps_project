{
 "cells": [
  {
   "cell_type": "markdown",
   "id": "e5eee014",
   "metadata": {},
   "source": [
    "### ITESM Instituto Tecnológico de Estudios Superiores de Monterrey\n",
    "### Course:     MLOps Machine Learning Operations\n",
    "#### Teacher:   Carlos Mejia\n",
    "#### Student:   Francisco Javier Torres Zenón  A01688757\n",
    "\n",
    "### References\n",
    "* Dataset and baseline notebook copied from \n",
    "[Online Payments Fraud Detection Dataset | Kaggle](https://www.kaggle.com/datasets/rupakroy/online-payments-fraud-detection-dataset) \n",
    "* Dataset: \n",
    "https://www.kaggle.com/datasets/rupakroy/online-payments-fraud-detection-dataset/download?datasetVersionNumber=1\n",
    "* Original Baseline notebook: https://www.kaggle.com/code/nehahatti/online-payments-fraud-detection-project/notebook\n",
    "\n",
    "### About this notebook\n",
    "This notebook was taken from [Kaggle](http://www.kaggle.com) and has been rewriten \n",
    "for better reading and understanding.\n",
    "\n",
    "1. The task is to predict online payment fraud, given a number of features from online \n",
    "transfer/deposits transactions.\n",
    "2. On Kaggle there were several notebooks related to this dataset\n",
    "(Decision Tree, Logistic Regresion, KNN, Gradient Boosting Classifier).\n",
    "3. As a Baseline I choose one of the most accurated and simpler one, a notebook using\n",
    " the Decision Tree algorithm."
   ]
  },
  {
   "cell_type": "markdown",
   "id": "6b5f04f9",
   "metadata": {},
   "source": [
    "#### 1. SETUP \n",
    "Imports and configuration files needed to run this notebook\n"
   ]
  },
  {
   "cell_type": "code",
   "execution_count": 1,
   "id": "32bae7ea",
   "metadata": {
    "_cell_guid": "b1076dfc-b9ad-4769-8c92-a6c4dae69d19",
    "_uuid": "8f2839f25d086af736a60e9eeb907d3b93b6e0e5",
    "execution": {
     "iopub.execute_input": "2022-08-20T10:07:53.177565Z",
     "iopub.status.busy": "2022-08-20T10:07:53.176647Z",
     "iopub.status.idle": "2022-08-20T10:07:53.197973Z",
     "shell.execute_reply": "2022-08-20T10:07:53.196806Z"
    },
    "papermill": {
     "duration": 0.034194,
     "end_time": "2022-08-20T10:07:53.200774",
     "exception": false,
     "start_time": "2022-08-20T10:07:53.166580",
     "status": "completed"
    },
    "tags": []
   },
   "outputs": [],
   "source": [
    "# This Python 3 environment comes with many helpful analytics libraries installed\n",
    "# It is defined by the kaggle/python Docker image: https://github.com/kaggle/docker-python\n",
    "# For example, here's several helpful packages to load\n",
    "\n",
    "import os\n",
    "\n",
    "import joblib\n",
    "import numpy as np  # linear algebra\n",
    "import pandas as pd  # data processing, CSV file I/O (e.g. pd.read_csv)\n",
    "from sklearn.metrics import classification_report, confusion_matrix\n",
    "from sklearn.model_selection import train_test_split\n",
    "from sklearn.tree import DecisionTreeClassifier\n",
    "\n",
    "# Input data files are available in the read-only \"../input/\" directory\n",
    "# For example, running this (by clicking run or pressing Shift+Enter) will list all files under the input directory\n",
    "\n",
    "\n",
    "for dirname, _, filenames in os.walk(\"/kaggle/input\"):\n",
    "    for filename in filenames:\n",
    "        print(os.path.join(dirname, filename))\n",
    "\n",
    "# You can write up to 20GB to the current directory (/kaggle/working/) that gets preserved as output when you create a version using \"Save & Run All\"\n",
    "# You can also write temporary files to /kaggle/temp/, but they won't be saved outside of the current session\n",
    "\n",
    "# import os # This is an unused import"
   ]
  },
  {
   "cell_type": "markdown",
   "id": "8d4dc710",
   "metadata": {},
   "source": [
    "#### 2. Data Load\n",
    "Instructions to load the dataset.\n",
    "\n",
    "Please unload the dataset from: \n",
    "* Dataset: https://www.kaggle.com/datasets/rupakroy/online-payments-fraud-detection-dataset/download?datasetVersionNumber=1\n",
    "\n",
    "and unzip the file ```PS_20174392719_1491204439457_log.csv``` in the folder ```../files/```"
   ]
  },
  {
   "cell_type": "code",
   "execution_count": 4,
   "id": "76cf16e3",
   "metadata": {
    "execution": {
     "iopub.execute_input": "2022-08-20T10:07:53.216876Z",
     "iopub.status.busy": "2022-08-20T10:07:53.216165Z",
     "iopub.status.idle": "2022-08-20T10:08:11.922427Z",
     "shell.execute_reply": "2022-08-20T10:08:11.921101Z"
    },
    "papermill": {
     "duration": 18.718246,
     "end_time": "2022-08-20T10:08:11.926187",
     "exception": false,
     "start_time": "2022-08-20T10:07:53.207941",
     "status": "completed"
    },
    "tags": []
   },
   "outputs": [
    {
     "name": "stdout",
     "output_type": "stream",
     "text": [
      "c:\\Users\\francisco.torres\\Documents\\GitHub\\MLOps_project\\Refactor\n",
      "c:\\Users\\francisco.torres\\Documents\\GitHub\\MLOps_project\n"
     ]
    }
   ],
   "source": [
    "INPUT_FILES_PATH = \"./Refactor/mlops_project/mlops_project/data/\"\n",
    "INPUT_FILE_NAME = \"PS_20174392719_1491204439457_log.csv\"\n",
    "INPUT_FILE = INPUT_FILES_PATH + INPUT_FILE_NAME\n",
    "Original_python_DIRECTORY='/Users/francisco.torres/Documents/GitHub/MLOps_project/'\n",
    "\n",
    "#Change location to the refactored directory\n",
    "print(os.getcwd())\n",
    "os.chdir(Original_python_DIRECTORY)\n",
    "print(os.getcwd())\n",
    "\n",
    "Transactions_df = pd.read_csv(INPUT_FILE)"
   ]
  },
  {
   "cell_type": "markdown",
   "id": "c6757a01",
   "metadata": {},
   "source": [
    "#### 3. Data Exploration\n",
    "Data analysis and visualization"
   ]
  },
  {
   "cell_type": "code",
   "execution_count": 5,
   "id": "782edf23",
   "metadata": {
    "execution": {
     "iopub.execute_input": "2022-08-20T10:08:11.942622Z",
     "iopub.status.busy": "2022-08-20T10:08:11.941893Z",
     "iopub.status.idle": "2022-08-20T10:08:11.979784Z",
     "shell.execute_reply": "2022-08-20T10:08:11.978645Z"
    },
    "papermill": {
     "duration": 0.049002,
     "end_time": "2022-08-20T10:08:11.982436",
     "exception": false,
     "start_time": "2022-08-20T10:08:11.933434",
     "status": "completed"
    },
    "tags": []
   },
   "outputs": [
    {
     "data": {
      "text/html": [
       "<div>\n",
       "<style scoped>\n",
       "    .dataframe tbody tr th:only-of-type {\n",
       "        vertical-align: middle;\n",
       "    }\n",
       "\n",
       "    .dataframe tbody tr th {\n",
       "        vertical-align: top;\n",
       "    }\n",
       "\n",
       "    .dataframe thead th {\n",
       "        text-align: right;\n",
       "    }\n",
       "</style>\n",
       "<table border=\"1\" class=\"dataframe\">\n",
       "  <thead>\n",
       "    <tr style=\"text-align: right;\">\n",
       "      <th></th>\n",
       "      <th>step</th>\n",
       "      <th>type</th>\n",
       "      <th>amount</th>\n",
       "      <th>nameOrig</th>\n",
       "      <th>oldbalanceOrg</th>\n",
       "      <th>newbalanceOrig</th>\n",
       "      <th>nameDest</th>\n",
       "      <th>oldbalanceDest</th>\n",
       "      <th>newbalanceDest</th>\n",
       "      <th>isFraud</th>\n",
       "      <th>isFlaggedFraud</th>\n",
       "    </tr>\n",
       "  </thead>\n",
       "  <tbody>\n",
       "    <tr>\n",
       "      <th>0</th>\n",
       "      <td>1</td>\n",
       "      <td>PAYMENT</td>\n",
       "      <td>9839.64</td>\n",
       "      <td>C1231006815</td>\n",
       "      <td>170136.00</td>\n",
       "      <td>160296.36</td>\n",
       "      <td>M1979787155</td>\n",
       "      <td>0.0</td>\n",
       "      <td>0.00</td>\n",
       "      <td>0</td>\n",
       "      <td>0</td>\n",
       "    </tr>\n",
       "    <tr>\n",
       "      <th>1</th>\n",
       "      <td>1</td>\n",
       "      <td>PAYMENT</td>\n",
       "      <td>1864.28</td>\n",
       "      <td>C1666544295</td>\n",
       "      <td>21249.00</td>\n",
       "      <td>19384.72</td>\n",
       "      <td>M2044282225</td>\n",
       "      <td>0.0</td>\n",
       "      <td>0.00</td>\n",
       "      <td>0</td>\n",
       "      <td>0</td>\n",
       "    </tr>\n",
       "    <tr>\n",
       "      <th>2</th>\n",
       "      <td>1</td>\n",
       "      <td>TRANSFER</td>\n",
       "      <td>181.00</td>\n",
       "      <td>C1305486145</td>\n",
       "      <td>181.00</td>\n",
       "      <td>0.00</td>\n",
       "      <td>C553264065</td>\n",
       "      <td>0.0</td>\n",
       "      <td>0.00</td>\n",
       "      <td>1</td>\n",
       "      <td>0</td>\n",
       "    </tr>\n",
       "    <tr>\n",
       "      <th>3</th>\n",
       "      <td>1</td>\n",
       "      <td>CASH_OUT</td>\n",
       "      <td>181.00</td>\n",
       "      <td>C840083671</td>\n",
       "      <td>181.00</td>\n",
       "      <td>0.00</td>\n",
       "      <td>C38997010</td>\n",
       "      <td>21182.0</td>\n",
       "      <td>0.00</td>\n",
       "      <td>1</td>\n",
       "      <td>0</td>\n",
       "    </tr>\n",
       "    <tr>\n",
       "      <th>4</th>\n",
       "      <td>1</td>\n",
       "      <td>PAYMENT</td>\n",
       "      <td>11668.14</td>\n",
       "      <td>C2048537720</td>\n",
       "      <td>41554.00</td>\n",
       "      <td>29885.86</td>\n",
       "      <td>M1230701703</td>\n",
       "      <td>0.0</td>\n",
       "      <td>0.00</td>\n",
       "      <td>0</td>\n",
       "      <td>0</td>\n",
       "    </tr>\n",
       "    <tr>\n",
       "      <th>5</th>\n",
       "      <td>1</td>\n",
       "      <td>PAYMENT</td>\n",
       "      <td>7817.71</td>\n",
       "      <td>C90045638</td>\n",
       "      <td>53860.00</td>\n",
       "      <td>46042.29</td>\n",
       "      <td>M573487274</td>\n",
       "      <td>0.0</td>\n",
       "      <td>0.00</td>\n",
       "      <td>0</td>\n",
       "      <td>0</td>\n",
       "    </tr>\n",
       "    <tr>\n",
       "      <th>6</th>\n",
       "      <td>1</td>\n",
       "      <td>PAYMENT</td>\n",
       "      <td>7107.77</td>\n",
       "      <td>C154988899</td>\n",
       "      <td>183195.00</td>\n",
       "      <td>176087.23</td>\n",
       "      <td>M408069119</td>\n",
       "      <td>0.0</td>\n",
       "      <td>0.00</td>\n",
       "      <td>0</td>\n",
       "      <td>0</td>\n",
       "    </tr>\n",
       "    <tr>\n",
       "      <th>7</th>\n",
       "      <td>1</td>\n",
       "      <td>PAYMENT</td>\n",
       "      <td>7861.64</td>\n",
       "      <td>C1912850431</td>\n",
       "      <td>176087.23</td>\n",
       "      <td>168225.59</td>\n",
       "      <td>M633326333</td>\n",
       "      <td>0.0</td>\n",
       "      <td>0.00</td>\n",
       "      <td>0</td>\n",
       "      <td>0</td>\n",
       "    </tr>\n",
       "    <tr>\n",
       "      <th>8</th>\n",
       "      <td>1</td>\n",
       "      <td>PAYMENT</td>\n",
       "      <td>4024.36</td>\n",
       "      <td>C1265012928</td>\n",
       "      <td>2671.00</td>\n",
       "      <td>0.00</td>\n",
       "      <td>M1176932104</td>\n",
       "      <td>0.0</td>\n",
       "      <td>0.00</td>\n",
       "      <td>0</td>\n",
       "      <td>0</td>\n",
       "    </tr>\n",
       "    <tr>\n",
       "      <th>9</th>\n",
       "      <td>1</td>\n",
       "      <td>DEBIT</td>\n",
       "      <td>5337.77</td>\n",
       "      <td>C712410124</td>\n",
       "      <td>41720.00</td>\n",
       "      <td>36382.23</td>\n",
       "      <td>C195600860</td>\n",
       "      <td>41898.0</td>\n",
       "      <td>40348.79</td>\n",
       "      <td>0</td>\n",
       "      <td>0</td>\n",
       "    </tr>\n",
       "  </tbody>\n",
       "</table>\n",
       "</div>"
      ],
      "text/plain": [
       "   step      type    amount     nameOrig  oldbalanceOrg  newbalanceOrig  \\\n",
       "0     1   PAYMENT   9839.64  C1231006815      170136.00       160296.36   \n",
       "1     1   PAYMENT   1864.28  C1666544295       21249.00        19384.72   \n",
       "2     1  TRANSFER    181.00  C1305486145         181.00            0.00   \n",
       "3     1  CASH_OUT    181.00   C840083671         181.00            0.00   \n",
       "4     1   PAYMENT  11668.14  C2048537720       41554.00        29885.86   \n",
       "5     1   PAYMENT   7817.71    C90045638       53860.00        46042.29   \n",
       "6     1   PAYMENT   7107.77   C154988899      183195.00       176087.23   \n",
       "7     1   PAYMENT   7861.64  C1912850431      176087.23       168225.59   \n",
       "8     1   PAYMENT   4024.36  C1265012928        2671.00            0.00   \n",
       "9     1     DEBIT   5337.77   C712410124       41720.00        36382.23   \n",
       "\n",
       "      nameDest  oldbalanceDest  newbalanceDest  isFraud  isFlaggedFraud  \n",
       "0  M1979787155             0.0            0.00        0               0  \n",
       "1  M2044282225             0.0            0.00        0               0  \n",
       "2   C553264065             0.0            0.00        1               0  \n",
       "3    C38997010         21182.0            0.00        1               0  \n",
       "4  M1230701703             0.0            0.00        0               0  \n",
       "5   M573487274             0.0            0.00        0               0  \n",
       "6   M408069119             0.0            0.00        0               0  \n",
       "7   M633326333             0.0            0.00        0               0  \n",
       "8  M1176932104             0.0            0.00        0               0  \n",
       "9   C195600860         41898.0        40348.79        0               0  "
      ]
     },
     "execution_count": 5,
     "metadata": {},
     "output_type": "execute_result"
    }
   ],
   "source": [
    "Transactions_df.head(10)"
   ]
  },
  {
   "cell_type": "code",
   "execution_count": 6,
   "id": "a6124cd9",
   "metadata": {
    "execution": {
     "iopub.execute_input": "2022-08-20T10:08:12.000448Z",
     "iopub.status.busy": "2022-08-20T10:08:11.999665Z",
     "iopub.status.idle": "2022-08-20T10:08:12.008142Z",
     "shell.execute_reply": "2022-08-20T10:08:12.006821Z"
    },
    "papermill": {
     "duration": 0.020648,
     "end_time": "2022-08-20T10:08:12.010809",
     "exception": false,
     "start_time": "2022-08-20T10:08:11.990161",
     "status": "completed"
    },
    "tags": []
   },
   "outputs": [
    {
     "data": {
      "text/plain": [
       "(6362620, 11)"
      ]
     },
     "execution_count": 6,
     "metadata": {},
     "output_type": "execute_result"
    }
   ],
   "source": [
    "Transactions_df.shape"
   ]
  },
  {
   "cell_type": "code",
   "execution_count": 7,
   "id": "25e746ab",
   "metadata": {
    "execution": {
     "iopub.execute_input": "2022-08-20T10:08:12.030704Z",
     "iopub.status.busy": "2022-08-20T10:08:12.029917Z",
     "iopub.status.idle": "2022-08-20T10:08:14.311590Z",
     "shell.execute_reply": "2022-08-20T10:08:14.310431Z"
    },
    "papermill": {
     "duration": 2.29539,
     "end_time": "2022-08-20T10:08:14.314204",
     "exception": false,
     "start_time": "2022-08-20T10:08:12.018814",
     "status": "completed"
    },
    "tags": []
   },
   "outputs": [
    {
     "data": {
      "text/html": [
       "<div>\n",
       "<style scoped>\n",
       "    .dataframe tbody tr th:only-of-type {\n",
       "        vertical-align: middle;\n",
       "    }\n",
       "\n",
       "    .dataframe tbody tr th {\n",
       "        vertical-align: top;\n",
       "    }\n",
       "\n",
       "    .dataframe thead th {\n",
       "        text-align: right;\n",
       "    }\n",
       "</style>\n",
       "<table border=\"1\" class=\"dataframe\">\n",
       "  <thead>\n",
       "    <tr style=\"text-align: right;\">\n",
       "      <th></th>\n",
       "      <th>step</th>\n",
       "      <th>amount</th>\n",
       "      <th>oldbalanceOrg</th>\n",
       "      <th>newbalanceOrig</th>\n",
       "      <th>oldbalanceDest</th>\n",
       "      <th>newbalanceDest</th>\n",
       "      <th>isFraud</th>\n",
       "      <th>isFlaggedFraud</th>\n",
       "    </tr>\n",
       "  </thead>\n",
       "  <tbody>\n",
       "    <tr>\n",
       "      <th>count</th>\n",
       "      <td>6.362620e+06</td>\n",
       "      <td>6.362620e+06</td>\n",
       "      <td>6.362620e+06</td>\n",
       "      <td>6.362620e+06</td>\n",
       "      <td>6.362620e+06</td>\n",
       "      <td>6.362620e+06</td>\n",
       "      <td>6.362620e+06</td>\n",
       "      <td>6.362620e+06</td>\n",
       "    </tr>\n",
       "    <tr>\n",
       "      <th>mean</th>\n",
       "      <td>2.433972e+02</td>\n",
       "      <td>1.798619e+05</td>\n",
       "      <td>8.338831e+05</td>\n",
       "      <td>8.551137e+05</td>\n",
       "      <td>1.100702e+06</td>\n",
       "      <td>1.224996e+06</td>\n",
       "      <td>1.290820e-03</td>\n",
       "      <td>2.514687e-06</td>\n",
       "    </tr>\n",
       "    <tr>\n",
       "      <th>std</th>\n",
       "      <td>1.423320e+02</td>\n",
       "      <td>6.038582e+05</td>\n",
       "      <td>2.888243e+06</td>\n",
       "      <td>2.924049e+06</td>\n",
       "      <td>3.399180e+06</td>\n",
       "      <td>3.674129e+06</td>\n",
       "      <td>3.590480e-02</td>\n",
       "      <td>1.585775e-03</td>\n",
       "    </tr>\n",
       "    <tr>\n",
       "      <th>min</th>\n",
       "      <td>1.000000e+00</td>\n",
       "      <td>0.000000e+00</td>\n",
       "      <td>0.000000e+00</td>\n",
       "      <td>0.000000e+00</td>\n",
       "      <td>0.000000e+00</td>\n",
       "      <td>0.000000e+00</td>\n",
       "      <td>0.000000e+00</td>\n",
       "      <td>0.000000e+00</td>\n",
       "    </tr>\n",
       "    <tr>\n",
       "      <th>25%</th>\n",
       "      <td>1.560000e+02</td>\n",
       "      <td>1.338957e+04</td>\n",
       "      <td>0.000000e+00</td>\n",
       "      <td>0.000000e+00</td>\n",
       "      <td>0.000000e+00</td>\n",
       "      <td>0.000000e+00</td>\n",
       "      <td>0.000000e+00</td>\n",
       "      <td>0.000000e+00</td>\n",
       "    </tr>\n",
       "    <tr>\n",
       "      <th>50%</th>\n",
       "      <td>2.390000e+02</td>\n",
       "      <td>7.487194e+04</td>\n",
       "      <td>1.420800e+04</td>\n",
       "      <td>0.000000e+00</td>\n",
       "      <td>1.327057e+05</td>\n",
       "      <td>2.146614e+05</td>\n",
       "      <td>0.000000e+00</td>\n",
       "      <td>0.000000e+00</td>\n",
       "    </tr>\n",
       "    <tr>\n",
       "      <th>75%</th>\n",
       "      <td>3.350000e+02</td>\n",
       "      <td>2.087215e+05</td>\n",
       "      <td>1.073152e+05</td>\n",
       "      <td>1.442584e+05</td>\n",
       "      <td>9.430367e+05</td>\n",
       "      <td>1.111909e+06</td>\n",
       "      <td>0.000000e+00</td>\n",
       "      <td>0.000000e+00</td>\n",
       "    </tr>\n",
       "    <tr>\n",
       "      <th>max</th>\n",
       "      <td>7.430000e+02</td>\n",
       "      <td>9.244552e+07</td>\n",
       "      <td>5.958504e+07</td>\n",
       "      <td>4.958504e+07</td>\n",
       "      <td>3.560159e+08</td>\n",
       "      <td>3.561793e+08</td>\n",
       "      <td>1.000000e+00</td>\n",
       "      <td>1.000000e+00</td>\n",
       "    </tr>\n",
       "  </tbody>\n",
       "</table>\n",
       "</div>"
      ],
      "text/plain": [
       "               step        amount  oldbalanceOrg  newbalanceOrig  \\\n",
       "count  6.362620e+06  6.362620e+06   6.362620e+06    6.362620e+06   \n",
       "mean   2.433972e+02  1.798619e+05   8.338831e+05    8.551137e+05   \n",
       "std    1.423320e+02  6.038582e+05   2.888243e+06    2.924049e+06   \n",
       "min    1.000000e+00  0.000000e+00   0.000000e+00    0.000000e+00   \n",
       "25%    1.560000e+02  1.338957e+04   0.000000e+00    0.000000e+00   \n",
       "50%    2.390000e+02  7.487194e+04   1.420800e+04    0.000000e+00   \n",
       "75%    3.350000e+02  2.087215e+05   1.073152e+05    1.442584e+05   \n",
       "max    7.430000e+02  9.244552e+07   5.958504e+07    4.958504e+07   \n",
       "\n",
       "       oldbalanceDest  newbalanceDest       isFraud  isFlaggedFraud  \n",
       "count    6.362620e+06    6.362620e+06  6.362620e+06    6.362620e+06  \n",
       "mean     1.100702e+06    1.224996e+06  1.290820e-03    2.514687e-06  \n",
       "std      3.399180e+06    3.674129e+06  3.590480e-02    1.585775e-03  \n",
       "min      0.000000e+00    0.000000e+00  0.000000e+00    0.000000e+00  \n",
       "25%      0.000000e+00    0.000000e+00  0.000000e+00    0.000000e+00  \n",
       "50%      1.327057e+05    2.146614e+05  0.000000e+00    0.000000e+00  \n",
       "75%      9.430367e+05    1.111909e+06  0.000000e+00    0.000000e+00  \n",
       "max      3.560159e+08    3.561793e+08  1.000000e+00    1.000000e+00  "
      ]
     },
     "execution_count": 7,
     "metadata": {},
     "output_type": "execute_result"
    }
   ],
   "source": [
    "Transactions_df.describe()"
   ]
  },
  {
   "cell_type": "code",
   "execution_count": 8,
   "id": "9cd86374",
   "metadata": {
    "execution": {
     "iopub.execute_input": "2022-08-20T10:08:14.330937Z",
     "iopub.status.busy": "2022-08-20T10:08:14.330486Z",
     "iopub.status.idle": "2022-08-20T10:08:15.272421Z",
     "shell.execute_reply": "2022-08-20T10:08:15.271221Z"
    },
    "papermill": {
     "duration": 0.954165,
     "end_time": "2022-08-20T10:08:15.275785",
     "exception": false,
     "start_time": "2022-08-20T10:08:14.321620",
     "status": "completed"
    },
    "tags": []
   },
   "outputs": [
    {
     "data": {
      "text/plain": [
       "step              0\n",
       "type              0\n",
       "amount            0\n",
       "nameOrig          0\n",
       "oldbalanceOrg     0\n",
       "newbalanceOrig    0\n",
       "nameDest          0\n",
       "oldbalanceDest    0\n",
       "newbalanceDest    0\n",
       "isFraud           0\n",
       "isFlaggedFraud    0\n",
       "dtype: int64"
      ]
     },
     "execution_count": 8,
     "metadata": {},
     "output_type": "execute_result"
    }
   ],
   "source": [
    "Transactions_df.isnull().sum()"
   ]
  },
  {
   "cell_type": "code",
   "execution_count": 9,
   "id": "814e9444",
   "metadata": {
    "execution": {
     "iopub.execute_input": "2022-08-20T10:08:15.293488Z",
     "iopub.status.busy": "2022-08-20T10:08:15.293092Z",
     "iopub.status.idle": "2022-08-20T10:08:15.300568Z",
     "shell.execute_reply": "2022-08-20T10:08:15.299763Z"
    },
    "papermill": {
     "duration": 0.019175,
     "end_time": "2022-08-20T10:08:15.302885",
     "exception": false,
     "start_time": "2022-08-20T10:08:15.283710",
     "status": "completed"
    },
    "tags": []
   },
   "outputs": [
    {
     "data": {
      "text/plain": [
       "step                int64\n",
       "type               object\n",
       "amount            float64\n",
       "nameOrig           object\n",
       "oldbalanceOrg     float64\n",
       "newbalanceOrig    float64\n",
       "nameDest           object\n",
       "oldbalanceDest    float64\n",
       "newbalanceDest    float64\n",
       "isFraud             int64\n",
       "isFlaggedFraud      int64\n",
       "dtype: object"
      ]
     },
     "execution_count": 9,
     "metadata": {},
     "output_type": "execute_result"
    }
   ],
   "source": [
    "Transactions_df.dtypes"
   ]
  },
  {
   "cell_type": "code",
   "execution_count": 10,
   "id": "8d714df8",
   "metadata": {
    "execution": {
     "iopub.execute_input": "2022-08-20T10:08:15.320619Z",
     "iopub.status.busy": "2022-08-20T10:08:15.319648Z",
     "iopub.status.idle": "2022-08-20T10:08:15.740862Z",
     "shell.execute_reply": "2022-08-20T10:08:15.739412Z"
    },
    "papermill": {
     "duration": 0.432675,
     "end_time": "2022-08-20T10:08:15.743259",
     "exception": false,
     "start_time": "2022-08-20T10:08:15.310584",
     "status": "completed"
    },
    "tags": []
   },
   "outputs": [
    {
     "data": {
      "text/plain": [
       "type\n",
       "CASH_OUT    2237500\n",
       "PAYMENT     2151495\n",
       "CASH_IN     1399284\n",
       "TRANSFER     532909\n",
       "DEBIT         41432\n",
       "Name: count, dtype: int64"
      ]
     },
     "execution_count": 10,
     "metadata": {},
     "output_type": "execute_result"
    }
   ],
   "source": [
    "Transactions_df.type.value_counts()"
   ]
  },
  {
   "cell_type": "code",
   "execution_count": 11,
   "id": "52f3ab42",
   "metadata": {
    "execution": {
     "iopub.execute_input": "2022-08-20T10:08:15.765284Z",
     "iopub.status.busy": "2022-08-20T10:08:15.764800Z",
     "iopub.status.idle": "2022-08-20T10:08:16.188924Z",
     "shell.execute_reply": "2022-08-20T10:08:16.187334Z"
    },
    "papermill": {
     "duration": 0.439403,
     "end_time": "2022-08-20T10:08:16.191196",
     "exception": false,
     "start_time": "2022-08-20T10:08:15.751793",
     "status": "completed"
    },
    "tags": []
   },
   "outputs": [
    {
     "data": {
      "text/plain": [
       "type\n",
       "CASH_OUT    2237500\n",
       "PAYMENT     2151495\n",
       "CASH_IN     1399284\n",
       "TRANSFER     532909\n",
       "DEBIT         41432\n",
       "Name: count, dtype: int64"
      ]
     },
     "execution_count": 11,
     "metadata": {},
     "output_type": "execute_result"
    }
   ],
   "source": [
    "type = Transactions_df[\"type\"].value_counts()\n",
    "type"
   ]
  },
  {
   "cell_type": "code",
   "execution_count": 12,
   "id": "6fccbb37",
   "metadata": {
    "execution": {
     "iopub.execute_input": "2022-08-20T10:08:16.211039Z",
     "iopub.status.busy": "2022-08-20T10:08:16.210589Z",
     "iopub.status.idle": "2022-08-20T10:08:16.218201Z",
     "shell.execute_reply": "2022-08-20T10:08:16.216525Z"
    },
    "papermill": {
     "duration": 0.021251,
     "end_time": "2022-08-20T10:08:16.221461",
     "exception": false,
     "start_time": "2022-08-20T10:08:16.200210",
     "status": "completed"
    },
    "tags": []
   },
   "outputs": [
    {
     "name": "stdout",
     "output_type": "stream",
     "text": [
      "Index(['CASH_OUT', 'PAYMENT', 'CASH_IN', 'TRANSFER', 'DEBIT'], dtype='object', name='type')\n",
      "count\n",
      "2237500    1\n",
      "2151495    1\n",
      "1399284    1\n",
      "532909     1\n",
      "41432      1\n",
      "Name: count, dtype: int64\n"
     ]
    }
   ],
   "source": [
    "# print transaction type counts\n",
    "transaction = type.index\n",
    "print(transaction)\n",
    "quantity = type.value_counts()\n",
    "print(quantity)"
   ]
  },
  {
   "cell_type": "code",
   "execution_count": 13,
   "id": "a56b6215",
   "metadata": {
    "execution": {
     "iopub.execute_input": "2022-08-20T10:08:16.241016Z",
     "iopub.status.busy": "2022-08-20T10:08:16.239934Z",
     "iopub.status.idle": "2022-08-20T10:08:19.095208Z",
     "shell.execute_reply": "2022-08-20T10:08:19.093875Z"
    },
    "papermill": {
     "duration": 2.867292,
     "end_time": "2022-08-20T10:08:19.097697",
     "exception": false,
     "start_time": "2022-08-20T10:08:16.230405",
     "status": "completed"
    },
    "tags": []
   },
   "outputs": [
    {
     "data": {
      "text/plain": [
       "<bound method NDFrame.describe of          step      type      amount     nameOrig  oldbalanceOrg  \\\n",
       "0           1   PAYMENT     9839.64  C1231006815      170136.00   \n",
       "1           1   PAYMENT     1864.28  C1666544295       21249.00   \n",
       "2           1  TRANSFER      181.00  C1305486145         181.00   \n",
       "3           1  CASH_OUT      181.00   C840083671         181.00   \n",
       "4           1   PAYMENT    11668.14  C2048537720       41554.00   \n",
       "...       ...       ...         ...          ...            ...   \n",
       "6362615   743  CASH_OUT   339682.13   C786484425      339682.13   \n",
       "6362616   743  TRANSFER  6311409.28  C1529008245     6311409.28   \n",
       "6362617   743  CASH_OUT  6311409.28  C1162922333     6311409.28   \n",
       "6362618   743  TRANSFER   850002.52  C1685995037      850002.52   \n",
       "6362619   743  CASH_OUT   850002.52  C1280323807      850002.52   \n",
       "\n",
       "         newbalanceOrig     nameDest  oldbalanceDest  newbalanceDest  isFraud  \\\n",
       "0             160296.36  M1979787155            0.00            0.00        0   \n",
       "1              19384.72  M2044282225            0.00            0.00        0   \n",
       "2                  0.00   C553264065            0.00            0.00        1   \n",
       "3                  0.00    C38997010        21182.00            0.00        1   \n",
       "4              29885.86  M1230701703            0.00            0.00        0   \n",
       "...                 ...          ...             ...             ...      ...   \n",
       "6362615            0.00   C776919290            0.00       339682.13        1   \n",
       "6362616            0.00  C1881841831            0.00            0.00        1   \n",
       "6362617            0.00  C1365125890        68488.84      6379898.11        1   \n",
       "6362618            0.00  C2080388513            0.00            0.00        1   \n",
       "6362619            0.00   C873221189      6510099.11      7360101.63        1   \n",
       "\n",
       "         isFlaggedFraud  \n",
       "0                     0  \n",
       "1                     0  \n",
       "2                     0  \n",
       "3                     0  \n",
       "4                     0  \n",
       "...                 ...  \n",
       "6362615               0  \n",
       "6362616               0  \n",
       "6362617               0  \n",
       "6362618               0  \n",
       "6362619               0  \n",
       "\n",
       "[6362620 rows x 11 columns]>"
      ]
     },
     "execution_count": 13,
     "metadata": {},
     "output_type": "execute_result"
    }
   ],
   "source": [
    "# show dataframe\n",
    "Transactions_df.describe"
   ]
  },
  {
   "cell_type": "markdown",
   "id": "7f76e483",
   "metadata": {},
   "source": [
    "#### 4. Data transformation\n",
    "Data cleaning, data transformation."
   ]
  },
  {
   "cell_type": "code",
   "execution_count": 14,
   "id": "9c26b9a7",
   "metadata": {
    "execution": {
     "iopub.execute_input": "2022-08-20T10:08:20.689473Z",
     "iopub.status.busy": "2022-08-20T10:08:20.689068Z",
     "iopub.status.idle": "2022-08-20T10:08:21.444015Z",
     "shell.execute_reply": "2022-08-20T10:08:21.442432Z"
    },
    "papermill": {
     "duration": 0.767963,
     "end_time": "2022-08-20T10:08:21.446772",
     "exception": false,
     "start_time": "2022-08-20T10:08:20.678809",
     "status": "completed"
    },
    "tags": []
   },
   "outputs": [],
   "source": [
    "# Transform categorical attribute 'type'\n",
    "Transactions_df[\"type\"] = Transactions_df[\"type\"].map(\n",
    "    {\"CASH_OUT\": 1, \"PAYMENT\": 2, \"CASH_IN\": 3, \"TRANSFER\": 4, \"DEBIT\": 5}\n",
    ")"
   ]
  },
  {
   "cell_type": "code",
   "execution_count": 15,
   "id": "f1b05788",
   "metadata": {
    "execution": {
     "iopub.execute_input": "2022-08-20T10:08:21.465807Z",
     "iopub.status.busy": "2022-08-20T10:08:21.465403Z",
     "iopub.status.idle": "2022-08-20T10:08:21.767975Z",
     "shell.execute_reply": "2022-08-20T10:08:21.766935Z"
    },
    "papermill": {
     "duration": 0.31528,
     "end_time": "2022-08-20T10:08:21.770770",
     "exception": false,
     "start_time": "2022-08-20T10:08:21.455490",
     "status": "completed"
    },
    "tags": []
   },
   "outputs": [],
   "source": [
    "# Transactions_df['isFraud'] = Transactions_df['isFraud'].map({0:'No_Fraud', 1:'Fraud'})\n",
    "\n",
    "# select the numerical attributes\n",
    "\n",
    "Transactions_df = Transactions_df[\n",
    "    [\n",
    "        \"type\",\n",
    "        \"amount\",\n",
    "        \"oldbalanceOrg\",\n",
    "        \"newbalanceOrig\",\n",
    "        \"oldbalanceDest\",\n",
    "        \"newbalanceDest\",\n",
    "        \"isFraud\",\n",
    "    ]\n",
    "]"
   ]
  },
  {
   "cell_type": "code",
   "execution_count": 16,
   "id": "d4b23c56",
   "metadata": {
    "execution": {
     "iopub.execute_input": "2022-08-20T10:08:21.790526Z",
     "iopub.status.busy": "2022-08-20T10:08:21.790136Z",
     "iopub.status.idle": "2022-08-20T10:08:21.811557Z",
     "shell.execute_reply": "2022-08-20T10:08:21.809618Z"
    },
    "papermill": {
     "duration": 0.034056,
     "end_time": "2022-08-20T10:08:21.814098",
     "exception": false,
     "start_time": "2022-08-20T10:08:21.780042",
     "status": "completed"
    },
    "tags": []
   },
   "outputs": [
    {
     "data": {
      "text/html": [
       "<div>\n",
       "<style scoped>\n",
       "    .dataframe tbody tr th:only-of-type {\n",
       "        vertical-align: middle;\n",
       "    }\n",
       "\n",
       "    .dataframe tbody tr th {\n",
       "        vertical-align: top;\n",
       "    }\n",
       "\n",
       "    .dataframe thead th {\n",
       "        text-align: right;\n",
       "    }\n",
       "</style>\n",
       "<table border=\"1\" class=\"dataframe\">\n",
       "  <thead>\n",
       "    <tr style=\"text-align: right;\">\n",
       "      <th></th>\n",
       "      <th>type</th>\n",
       "      <th>amount</th>\n",
       "      <th>oldbalanceOrg</th>\n",
       "      <th>newbalanceOrig</th>\n",
       "      <th>oldbalanceDest</th>\n",
       "      <th>newbalanceDest</th>\n",
       "      <th>isFraud</th>\n",
       "    </tr>\n",
       "  </thead>\n",
       "  <tbody>\n",
       "    <tr>\n",
       "      <th>0</th>\n",
       "      <td>2</td>\n",
       "      <td>9839.64</td>\n",
       "      <td>170136.00</td>\n",
       "      <td>160296.36</td>\n",
       "      <td>0.0</td>\n",
       "      <td>0.00</td>\n",
       "      <td>0</td>\n",
       "    </tr>\n",
       "    <tr>\n",
       "      <th>1</th>\n",
       "      <td>2</td>\n",
       "      <td>1864.28</td>\n",
       "      <td>21249.00</td>\n",
       "      <td>19384.72</td>\n",
       "      <td>0.0</td>\n",
       "      <td>0.00</td>\n",
       "      <td>0</td>\n",
       "    </tr>\n",
       "    <tr>\n",
       "      <th>2</th>\n",
       "      <td>4</td>\n",
       "      <td>181.00</td>\n",
       "      <td>181.00</td>\n",
       "      <td>0.00</td>\n",
       "      <td>0.0</td>\n",
       "      <td>0.00</td>\n",
       "      <td>1</td>\n",
       "    </tr>\n",
       "    <tr>\n",
       "      <th>3</th>\n",
       "      <td>1</td>\n",
       "      <td>181.00</td>\n",
       "      <td>181.00</td>\n",
       "      <td>0.00</td>\n",
       "      <td>21182.0</td>\n",
       "      <td>0.00</td>\n",
       "      <td>1</td>\n",
       "    </tr>\n",
       "    <tr>\n",
       "      <th>4</th>\n",
       "      <td>2</td>\n",
       "      <td>11668.14</td>\n",
       "      <td>41554.00</td>\n",
       "      <td>29885.86</td>\n",
       "      <td>0.0</td>\n",
       "      <td>0.00</td>\n",
       "      <td>0</td>\n",
       "    </tr>\n",
       "    <tr>\n",
       "      <th>5</th>\n",
       "      <td>2</td>\n",
       "      <td>7817.71</td>\n",
       "      <td>53860.00</td>\n",
       "      <td>46042.29</td>\n",
       "      <td>0.0</td>\n",
       "      <td>0.00</td>\n",
       "      <td>0</td>\n",
       "    </tr>\n",
       "    <tr>\n",
       "      <th>6</th>\n",
       "      <td>2</td>\n",
       "      <td>7107.77</td>\n",
       "      <td>183195.00</td>\n",
       "      <td>176087.23</td>\n",
       "      <td>0.0</td>\n",
       "      <td>0.00</td>\n",
       "      <td>0</td>\n",
       "    </tr>\n",
       "    <tr>\n",
       "      <th>7</th>\n",
       "      <td>2</td>\n",
       "      <td>7861.64</td>\n",
       "      <td>176087.23</td>\n",
       "      <td>168225.59</td>\n",
       "      <td>0.0</td>\n",
       "      <td>0.00</td>\n",
       "      <td>0</td>\n",
       "    </tr>\n",
       "    <tr>\n",
       "      <th>8</th>\n",
       "      <td>2</td>\n",
       "      <td>4024.36</td>\n",
       "      <td>2671.00</td>\n",
       "      <td>0.00</td>\n",
       "      <td>0.0</td>\n",
       "      <td>0.00</td>\n",
       "      <td>0</td>\n",
       "    </tr>\n",
       "    <tr>\n",
       "      <th>9</th>\n",
       "      <td>5</td>\n",
       "      <td>5337.77</td>\n",
       "      <td>41720.00</td>\n",
       "      <td>36382.23</td>\n",
       "      <td>41898.0</td>\n",
       "      <td>40348.79</td>\n",
       "      <td>0</td>\n",
       "    </tr>\n",
       "  </tbody>\n",
       "</table>\n",
       "</div>"
      ],
      "text/plain": [
       "   type    amount  oldbalanceOrg  newbalanceOrig  oldbalanceDest  \\\n",
       "0     2   9839.64      170136.00       160296.36             0.0   \n",
       "1     2   1864.28       21249.00        19384.72             0.0   \n",
       "2     4    181.00         181.00            0.00             0.0   \n",
       "3     1    181.00         181.00            0.00         21182.0   \n",
       "4     2  11668.14       41554.00        29885.86             0.0   \n",
       "5     2   7817.71       53860.00        46042.29             0.0   \n",
       "6     2   7107.77      183195.00       176087.23             0.0   \n",
       "7     2   7861.64      176087.23       168225.59             0.0   \n",
       "8     2   4024.36        2671.00            0.00             0.0   \n",
       "9     5   5337.77       41720.00        36382.23         41898.0   \n",
       "\n",
       "   newbalanceDest  isFraud  \n",
       "0            0.00        0  \n",
       "1            0.00        0  \n",
       "2            0.00        1  \n",
       "3            0.00        1  \n",
       "4            0.00        0  \n",
       "5            0.00        0  \n",
       "6            0.00        0  \n",
       "7            0.00        0  \n",
       "8            0.00        0  \n",
       "9        40348.79        0  "
      ]
     },
     "execution_count": 16,
     "metadata": {},
     "output_type": "execute_result"
    }
   ],
   "source": [
    "Transactions_df.head(10)"
   ]
  },
  {
   "cell_type": "code",
   "execution_count": 17,
   "id": "aaff57ef",
   "metadata": {},
   "outputs": [
    {
     "data": {
      "text/html": [
       "<div>\n",
       "<style scoped>\n",
       "    .dataframe tbody tr th:only-of-type {\n",
       "        vertical-align: middle;\n",
       "    }\n",
       "\n",
       "    .dataframe tbody tr th {\n",
       "        vertical-align: top;\n",
       "    }\n",
       "\n",
       "    .dataframe thead th {\n",
       "        text-align: right;\n",
       "    }\n",
       "</style>\n",
       "<table border=\"1\" class=\"dataframe\">\n",
       "  <thead>\n",
       "    <tr style=\"text-align: right;\">\n",
       "      <th></th>\n",
       "      <th>type</th>\n",
       "      <th>amount</th>\n",
       "      <th>oldbalanceOrg</th>\n",
       "      <th>newbalanceOrig</th>\n",
       "      <th>oldbalanceDest</th>\n",
       "      <th>newbalanceDest</th>\n",
       "      <th>isFraud</th>\n",
       "    </tr>\n",
       "  </thead>\n",
       "  <tbody>\n",
       "    <tr>\n",
       "      <th>type</th>\n",
       "      <td>1.000000</td>\n",
       "      <td>0.198987</td>\n",
       "      <td>0.260418</td>\n",
       "      <td>0.270669</td>\n",
       "      <td>0.066255</td>\n",
       "      <td>0.079111</td>\n",
       "      <td>0.016171</td>\n",
       "    </tr>\n",
       "    <tr>\n",
       "      <th>amount</th>\n",
       "      <td>0.198987</td>\n",
       "      <td>1.000000</td>\n",
       "      <td>-0.002762</td>\n",
       "      <td>-0.007861</td>\n",
       "      <td>0.294137</td>\n",
       "      <td>0.459304</td>\n",
       "      <td>0.076688</td>\n",
       "    </tr>\n",
       "    <tr>\n",
       "      <th>oldbalanceOrg</th>\n",
       "      <td>0.260418</td>\n",
       "      <td>-0.002762</td>\n",
       "      <td>1.000000</td>\n",
       "      <td>0.998803</td>\n",
       "      <td>0.066243</td>\n",
       "      <td>0.042029</td>\n",
       "      <td>0.010154</td>\n",
       "    </tr>\n",
       "    <tr>\n",
       "      <th>newbalanceOrig</th>\n",
       "      <td>0.270669</td>\n",
       "      <td>-0.007861</td>\n",
       "      <td>0.998803</td>\n",
       "      <td>1.000000</td>\n",
       "      <td>0.067812</td>\n",
       "      <td>0.041837</td>\n",
       "      <td>-0.008148</td>\n",
       "    </tr>\n",
       "    <tr>\n",
       "      <th>oldbalanceDest</th>\n",
       "      <td>0.066255</td>\n",
       "      <td>0.294137</td>\n",
       "      <td>0.066243</td>\n",
       "      <td>0.067812</td>\n",
       "      <td>1.000000</td>\n",
       "      <td>0.976569</td>\n",
       "      <td>-0.005885</td>\n",
       "    </tr>\n",
       "    <tr>\n",
       "      <th>newbalanceDest</th>\n",
       "      <td>0.079111</td>\n",
       "      <td>0.459304</td>\n",
       "      <td>0.042029</td>\n",
       "      <td>0.041837</td>\n",
       "      <td>0.976569</td>\n",
       "      <td>1.000000</td>\n",
       "      <td>0.000535</td>\n",
       "    </tr>\n",
       "    <tr>\n",
       "      <th>isFraud</th>\n",
       "      <td>0.016171</td>\n",
       "      <td>0.076688</td>\n",
       "      <td>0.010154</td>\n",
       "      <td>-0.008148</td>\n",
       "      <td>-0.005885</td>\n",
       "      <td>0.000535</td>\n",
       "      <td>1.000000</td>\n",
       "    </tr>\n",
       "  </tbody>\n",
       "</table>\n",
       "</div>"
      ],
      "text/plain": [
       "                    type    amount  oldbalanceOrg  newbalanceOrig  \\\n",
       "type            1.000000  0.198987       0.260418        0.270669   \n",
       "amount          0.198987  1.000000      -0.002762       -0.007861   \n",
       "oldbalanceOrg   0.260418 -0.002762       1.000000        0.998803   \n",
       "newbalanceOrig  0.270669 -0.007861       0.998803        1.000000   \n",
       "oldbalanceDest  0.066255  0.294137       0.066243        0.067812   \n",
       "newbalanceDest  0.079111  0.459304       0.042029        0.041837   \n",
       "isFraud         0.016171  0.076688       0.010154       -0.008148   \n",
       "\n",
       "                oldbalanceDest  newbalanceDest   isFraud  \n",
       "type                  0.066255        0.079111  0.016171  \n",
       "amount                0.294137        0.459304  0.076688  \n",
       "oldbalanceOrg         0.066243        0.042029  0.010154  \n",
       "newbalanceOrig        0.067812        0.041837 -0.008148  \n",
       "oldbalanceDest        1.000000        0.976569 -0.005885  \n",
       "newbalanceDest        0.976569        1.000000  0.000535  \n",
       "isFraud              -0.005885        0.000535  1.000000  "
      ]
     },
     "execution_count": 17,
     "metadata": {},
     "output_type": "execute_result"
    }
   ],
   "source": [
    "correlation_summary = Transactions_df.corr()\n",
    "correlation_summary"
   ]
  },
  {
   "cell_type": "code",
   "execution_count": 18,
   "id": "9b0977f8",
   "metadata": {},
   "outputs": [
    {
     "data": {
      "text/plain": [
       "isFraud           1.000000\n",
       "amount            0.076688\n",
       "type              0.016171\n",
       "oldbalanceOrg     0.010154\n",
       "newbalanceDest    0.000535\n",
       "oldbalanceDest   -0.005885\n",
       "newbalanceOrig   -0.008148\n",
       "Name: isFraud, dtype: float64"
      ]
     },
     "execution_count": 18,
     "metadata": {},
     "output_type": "execute_result"
    }
   ],
   "source": [
    "correlation_summary[\"isFraud\"].sort_values(ascending=False)"
   ]
  },
  {
   "cell_type": "markdown",
   "id": "76d8e439",
   "metadata": {},
   "source": [
    "#### 5. Model training\n",
    "* Load sklearn Decision Tree Algorithm\n",
    "* Split the dataset\n",
    "* Train the model"
   ]
  },
  {
   "cell_type": "code",
   "execution_count": 19,
   "id": "ba4c6d12",
   "metadata": {
    "execution": {
     "iopub.execute_input": "2022-08-20T10:08:22.751894Z",
     "iopub.status.busy": "2022-08-20T10:08:22.751436Z",
     "iopub.status.idle": "2022-08-20T10:08:23.950049Z",
     "shell.execute_reply": "2022-08-20T10:08:23.948902Z"
    },
    "papermill": {
     "duration": 1.212676,
     "end_time": "2022-08-20T10:08:23.953650",
     "exception": false,
     "start_time": "2022-08-20T10:08:22.740974",
     "status": "completed"
    },
    "tags": []
   },
   "outputs": [],
   "source": [
    "numerical_features = np.array(\n",
    "    Transactions_df[[\"type\", \"amount\", \"oldbalanceOrg\", \"newbalanceOrig\"]]\n",
    ")"
   ]
  },
  {
   "cell_type": "code",
   "execution_count": 20,
   "id": "52c4b04b",
   "metadata": {
    "execution": {
     "iopub.execute_input": "2022-08-20T10:08:23.975818Z",
     "iopub.status.busy": "2022-08-20T10:08:23.975396Z",
     "iopub.status.idle": "2022-08-20T10:08:24.174601Z",
     "shell.execute_reply": "2022-08-20T10:08:24.173590Z"
    },
    "papermill": {
     "duration": 0.214164,
     "end_time": "2022-08-20T10:08:24.177100",
     "exception": false,
     "start_time": "2022-08-20T10:08:23.962936",
     "status": "completed"
    },
    "tags": []
   },
   "outputs": [],
   "source": [
    "var_objective = np.array(Transactions_df[[\"isFraud\"]])"
   ]
  },
  {
   "cell_type": "code",
   "execution_count": 21,
   "id": "7ffc35b2",
   "metadata": {
    "execution": {
     "iopub.execute_input": "2022-08-20T10:08:24.581664Z",
     "iopub.status.busy": "2022-08-20T10:08:24.580944Z",
     "iopub.status.idle": "2022-08-20T10:08:26.429373Z",
     "shell.execute_reply": "2022-08-20T10:08:26.428097Z"
    },
    "papermill": {
     "duration": 1.862369,
     "end_time": "2022-08-20T10:08:26.432332",
     "exception": false,
     "start_time": "2022-08-20T10:08:24.569963",
     "status": "completed"
    },
    "tags": []
   },
   "outputs": [],
   "source": [
    "X_train, X_test, y_train, y_test = train_test_split(\n",
    "    numerical_features, var_objective, test_size=0.2, random_state=3\n",
    ")"
   ]
  },
  {
   "cell_type": "code",
   "execution_count": 22,
   "id": "70274725",
   "metadata": {
    "execution": {
     "iopub.execute_input": "2022-08-20T10:08:26.452690Z",
     "iopub.status.busy": "2022-08-20T10:08:26.452293Z",
     "iopub.status.idle": "2022-08-20T10:08:26.457207Z",
     "shell.execute_reply": "2022-08-20T10:08:26.455915Z"
    },
    "papermill": {
     "duration": 0.01768,
     "end_time": "2022-08-20T10:08:26.459573",
     "exception": false,
     "start_time": "2022-08-20T10:08:26.441893",
     "status": "completed"
    },
    "tags": []
   },
   "outputs": [],
   "source": [
    "DecisionTree_model = DecisionTreeClassifier()"
   ]
  },
  {
   "cell_type": "code",
   "execution_count": 23,
   "id": "c7fb27bf",
   "metadata": {
    "execution": {
     "iopub.execute_input": "2022-08-20T10:08:26.479807Z",
     "iopub.status.busy": "2022-08-20T10:08:26.479419Z",
     "iopub.status.idle": "2022-08-20T10:09:06.922713Z",
     "shell.execute_reply": "2022-08-20T10:09:06.921157Z"
    },
    "papermill": {
     "duration": 40.464922,
     "end_time": "2022-08-20T10:09:06.933594",
     "exception": false,
     "start_time": "2022-08-20T10:08:26.468672",
     "status": "completed"
    },
    "tags": []
   },
   "outputs": [
    {
     "data": {
      "text/html": [
       "<style>#sk-container-id-1 {color: black;}#sk-container-id-1 pre{padding: 0;}#sk-container-id-1 div.sk-toggleable {background-color: white;}#sk-container-id-1 label.sk-toggleable__label {cursor: pointer;display: block;width: 100%;margin-bottom: 0;padding: 0.3em;box-sizing: border-box;text-align: center;}#sk-container-id-1 label.sk-toggleable__label-arrow:before {content: \"▸\";float: left;margin-right: 0.25em;color: #696969;}#sk-container-id-1 label.sk-toggleable__label-arrow:hover:before {color: black;}#sk-container-id-1 div.sk-estimator:hover label.sk-toggleable__label-arrow:before {color: black;}#sk-container-id-1 div.sk-toggleable__content {max-height: 0;max-width: 0;overflow: hidden;text-align: left;background-color: #f0f8ff;}#sk-container-id-1 div.sk-toggleable__content pre {margin: 0.2em;color: black;border-radius: 0.25em;background-color: #f0f8ff;}#sk-container-id-1 input.sk-toggleable__control:checked~div.sk-toggleable__content {max-height: 200px;max-width: 100%;overflow: auto;}#sk-container-id-1 input.sk-toggleable__control:checked~label.sk-toggleable__label-arrow:before {content: \"▾\";}#sk-container-id-1 div.sk-estimator input.sk-toggleable__control:checked~label.sk-toggleable__label {background-color: #d4ebff;}#sk-container-id-1 div.sk-label input.sk-toggleable__control:checked~label.sk-toggleable__label {background-color: #d4ebff;}#sk-container-id-1 input.sk-hidden--visually {border: 0;clip: rect(1px 1px 1px 1px);clip: rect(1px, 1px, 1px, 1px);height: 1px;margin: -1px;overflow: hidden;padding: 0;position: absolute;width: 1px;}#sk-container-id-1 div.sk-estimator {font-family: monospace;background-color: #f0f8ff;border: 1px dotted black;border-radius: 0.25em;box-sizing: border-box;margin-bottom: 0.5em;}#sk-container-id-1 div.sk-estimator:hover {background-color: #d4ebff;}#sk-container-id-1 div.sk-parallel-item::after {content: \"\";width: 100%;border-bottom: 1px solid gray;flex-grow: 1;}#sk-container-id-1 div.sk-label:hover label.sk-toggleable__label {background-color: #d4ebff;}#sk-container-id-1 div.sk-serial::before {content: \"\";position: absolute;border-left: 1px solid gray;box-sizing: border-box;top: 0;bottom: 0;left: 50%;z-index: 0;}#sk-container-id-1 div.sk-serial {display: flex;flex-direction: column;align-items: center;background-color: white;padding-right: 0.2em;padding-left: 0.2em;position: relative;}#sk-container-id-1 div.sk-item {position: relative;z-index: 1;}#sk-container-id-1 div.sk-parallel {display: flex;align-items: stretch;justify-content: center;background-color: white;position: relative;}#sk-container-id-1 div.sk-item::before, #sk-container-id-1 div.sk-parallel-item::before {content: \"\";position: absolute;border-left: 1px solid gray;box-sizing: border-box;top: 0;bottom: 0;left: 50%;z-index: -1;}#sk-container-id-1 div.sk-parallel-item {display: flex;flex-direction: column;z-index: 1;position: relative;background-color: white;}#sk-container-id-1 div.sk-parallel-item:first-child::after {align-self: flex-end;width: 50%;}#sk-container-id-1 div.sk-parallel-item:last-child::after {align-self: flex-start;width: 50%;}#sk-container-id-1 div.sk-parallel-item:only-child::after {width: 0;}#sk-container-id-1 div.sk-dashed-wrapped {border: 1px dashed gray;margin: 0 0.4em 0.5em 0.4em;box-sizing: border-box;padding-bottom: 0.4em;background-color: white;}#sk-container-id-1 div.sk-label label {font-family: monospace;font-weight: bold;display: inline-block;line-height: 1.2em;}#sk-container-id-1 div.sk-label-container {text-align: center;}#sk-container-id-1 div.sk-container {/* jupyter's `normalize.less` sets `[hidden] { display: none; }` but bootstrap.min.css set `[hidden] { display: none !important; }` so we also need the `!important` here to be able to override the default hidden behavior on the sphinx rendered scikit-learn.org. See: https://github.com/scikit-learn/scikit-learn/issues/21755 */display: inline-block !important;position: relative;}#sk-container-id-1 div.sk-text-repr-fallback {display: none;}</style><div id=\"sk-container-id-1\" class=\"sk-top-container\"><div class=\"sk-text-repr-fallback\"><pre>DecisionTreeClassifier()</pre><b>In a Jupyter environment, please rerun this cell to show the HTML representation or trust the notebook. <br />On GitHub, the HTML representation is unable to render, please try loading this page with nbviewer.org.</b></div><div class=\"sk-container\" hidden><div class=\"sk-item\"><div class=\"sk-estimator sk-toggleable\"><input class=\"sk-toggleable__control sk-hidden--visually\" id=\"sk-estimator-id-1\" type=\"checkbox\" checked><label for=\"sk-estimator-id-1\" class=\"sk-toggleable__label sk-toggleable__label-arrow\">DecisionTreeClassifier</label><div class=\"sk-toggleable__content\"><pre>DecisionTreeClassifier()</pre></div></div></div></div></div>"
      ],
      "text/plain": [
       "DecisionTreeClassifier()"
      ]
     },
     "execution_count": 23,
     "metadata": {},
     "output_type": "execute_result"
    }
   ],
   "source": [
    "DecisionTree_model.fit(X_train, y_train)"
   ]
  },
  {
   "cell_type": "code",
   "execution_count": 24,
   "id": "915855af",
   "metadata": {
    "execution": {
     "iopub.execute_input": "2022-08-20T10:09:06.953595Z",
     "iopub.status.busy": "2022-08-20T10:09:06.953191Z",
     "iopub.status.idle": "2022-08-20T10:09:10.617700Z",
     "shell.execute_reply": "2022-08-20T10:09:10.615884Z"
    },
    "papermill": {
     "duration": 3.678167,
     "end_time": "2022-08-20T10:09:10.620786",
     "exception": false,
     "start_time": "2022-08-20T10:09:06.942619",
     "status": "completed"
    },
    "tags": []
   },
   "outputs": [
    {
     "data": {
      "text/plain": [
       "0.9996785915236176"
      ]
     },
     "execution_count": 24,
     "metadata": {},
     "output_type": "execute_result"
    }
   ],
   "source": [
    "DecisionTree_model.score(X_test, y_test)"
   ]
  },
  {
   "cell_type": "code",
   "execution_count": 25,
   "id": "dc53108b",
   "metadata": {},
   "outputs": [
    {
     "name": "stdout",
     "output_type": "stream",
     "text": [
      "[[1270690     180]\n",
      " [    229    1425]]\n",
      "              precision    recall  f1-score   support\n",
      "\n",
      "           0       1.00      1.00      1.00   1270870\n",
      "           1       0.89      0.86      0.87      1654\n",
      "\n",
      "    accuracy                           1.00   1272524\n",
      "   macro avg       0.94      0.93      0.94   1272524\n",
      "weighted avg       1.00      1.00      1.00   1272524\n",
      "\n"
     ]
    }
   ],
   "source": [
    "y_pred = DecisionTree_model.predict(X_test)\n",
    "print(confusion_matrix(y_test, y_pred))\n",
    "print(classification_report(y_test, y_pred))"
   ]
  },
  {
   "cell_type": "code",
   "execution_count": 28,
   "id": "acfdd083",
   "metadata": {},
   "outputs": [
    {
     "data": {
      "text/plain": [
       "{'ccp_alpha': 0.0,\n",
       " 'class_weight': None,\n",
       " 'criterion': 'gini',\n",
       " 'max_depth': None,\n",
       " 'max_features': None,\n",
       " 'max_leaf_nodes': None,\n",
       " 'min_impurity_decrease': 0.0,\n",
       " 'min_samples_leaf': 1,\n",
       " 'min_samples_split': 2,\n",
       " 'min_weight_fraction_leaf': 0.0,\n",
       " 'random_state': None,\n",
       " 'splitter': 'best'}"
      ]
     },
     "execution_count": 28,
     "metadata": {},
     "output_type": "execute_result"
    }
   ],
   "source": [
    "DecisionTree_model.get_params()"
   ]
  },
  {
   "cell_type": "markdown",
   "id": "064ac3d3",
   "metadata": {},
   "source": [
    "### 6. Save Model"
   ]
  },
  {
   "cell_type": "code",
   "execution_count": 26,
   "id": "beed07ec",
   "metadata": {},
   "outputs": [
    {
     "ename": "FileNotFoundError",
     "evalue": "[Errno 2] No such file or directory: '../trained_models/decision_tree_output.pkl'",
     "output_type": "error",
     "traceback": [
      "\u001b[1;31m---------------------------------------------------------------------------\u001b[0m",
      "\u001b[1;31mFileNotFoundError\u001b[0m                         Traceback (most recent call last)",
      "Cell \u001b[1;32mIn[26], line 7\u001b[0m\n\u001b[0;32m      5\u001b[0m \u001b[39m# Save the model using joblib\u001b[39;00m\n\u001b[0;32m      6\u001b[0m MODEL_FILED \u001b[39m=\u001b[39m TRAINED_MODEL_DIR \u001b[39m+\u001b[39m PIPELINE_SAVE_FILE\n\u001b[1;32m----> 7\u001b[0m joblib\u001b[39m.\u001b[39;49mdump(DecisionTree_model, MODEL_FILED)\n",
      "File \u001b[1;32mc:\\Users\\francisco.torres\\Documents\\GitHub\\MLOps_project\\venv310\\lib\\site-packages\\joblib\\numpy_pickle.py:552\u001b[0m, in \u001b[0;36mdump\u001b[1;34m(value, filename, compress, protocol, cache_size)\u001b[0m\n\u001b[0;32m    550\u001b[0m         NumpyPickler(f, protocol\u001b[39m=\u001b[39mprotocol)\u001b[39m.\u001b[39mdump(value)\n\u001b[0;32m    551\u001b[0m \u001b[39melif\u001b[39;00m is_filename:\n\u001b[1;32m--> 552\u001b[0m     \u001b[39mwith\u001b[39;00m \u001b[39mopen\u001b[39;49m(filename, \u001b[39m'\u001b[39;49m\u001b[39mwb\u001b[39;49m\u001b[39m'\u001b[39;49m) \u001b[39mas\u001b[39;00m f:\n\u001b[0;32m    553\u001b[0m         NumpyPickler(f, protocol\u001b[39m=\u001b[39mprotocol)\u001b[39m.\u001b[39mdump(value)\n\u001b[0;32m    554\u001b[0m \u001b[39melse\u001b[39;00m:\n",
      "\u001b[1;31mFileNotFoundError\u001b[0m: [Errno 2] No such file or directory: '../trained_models/decision_tree_output.pkl'"
     ]
    }
   ],
   "source": [
    "TRAINED_MODEL_DIR = \"../trained_models/\"\n",
    "PIPELINE_NAME = \"decision_tree\"\n",
    "PIPELINE_SAVE_FILE = f\"{PIPELINE_NAME}_output.pkl\"\n",
    "\n",
    "# Save the model using joblib\n",
    "MODEL_FILED = TRAINED_MODEL_DIR + PIPELINE_SAVE_FILE\n",
    "joblib.dump(DecisionTree_model, MODEL_FILED)"
   ]
  },
  {
   "cell_type": "markdown",
   "id": "6d0cfe6d",
   "metadata": {},
   "source": [
    "### 7. Load saved model and predict data"
   ]
  },
  {
   "cell_type": "code",
   "execution_count": 67,
   "id": "3de2d908",
   "metadata": {},
   "outputs": [],
   "source": [
    "# Load saved model\n",
    "DecisionTree_loaded = joblib.load(MODEL_FILED)"
   ]
  },
  {
   "cell_type": "code",
   "execution_count": 68,
   "id": "f28ab52a",
   "metadata": {
    "execution": {
     "iopub.execute_input": "2022-08-20T10:09:10.643133Z",
     "iopub.status.busy": "2022-08-20T10:09:10.642712Z",
     "iopub.status.idle": "2022-08-20T10:09:10.651442Z",
     "shell.execute_reply": "2022-08-20T10:09:10.649534Z"
    },
    "papermill": {
     "duration": 0.022398,
     "end_time": "2022-08-20T10:09:10.653921",
     "exception": false,
     "start_time": "2022-08-20T10:09:10.631523",
     "status": "completed"
    },
    "tags": []
   },
   "outputs": [
    {
     "data": {
      "text/plain": [
       "0"
      ]
     },
     "execution_count": 68,
     "metadata": {},
     "output_type": "execute_result"
    }
   ],
   "source": [
    "# NO_FRAUD test\n",
    "test_data = np.array([[5, 7880, 7880, 0.0]])\n",
    "DecisionTree_loaded.predict(test_data)[0]"
   ]
  },
  {
   "cell_type": "code",
   "execution_count": 69,
   "id": "b7d8ffb9",
   "metadata": {
    "execution": {
     "iopub.execute_input": "2022-08-20T10:09:10.676759Z",
     "iopub.status.busy": "2022-08-20T10:09:10.676227Z",
     "iopub.status.idle": "2022-08-20T10:09:10.686040Z",
     "shell.execute_reply": "2022-08-20T10:09:10.684889Z"
    },
    "papermill": {
     "duration": 0.025085,
     "end_time": "2022-08-20T10:09:10.688614",
     "exception": false,
     "start_time": "2022-08-20T10:09:10.663529",
     "status": "completed"
    },
    "tags": []
   },
   "outputs": [
    {
     "data": {
      "text/plain": [
       "1"
      ]
     },
     "execution_count": 69,
     "metadata": {},
     "output_type": "execute_result"
    }
   ],
   "source": [
    "# FRAUD test\n",
    "test_data = np.array([[6, 80000, 80000, 0.0]])\n",
    "DecisionTree_loaded.predict(test_data)[0]"
   ]
  }
 ],
 "metadata": {
  "kernelspec": {
   "display_name": "Python 3",
   "language": "python",
   "name": "python3"
  },
  "language_info": {
   "codemirror_mode": {
    "name": "ipython",
    "version": 3
   },
   "file_extension": ".py",
   "mimetype": "text/x-python",
   "name": "python",
   "nbconvert_exporter": "python",
   "pygments_lexer": "ipython3",
   "version": "3.10.11"
  },
  "papermill": {
   "default_parameters": {},
   "duration": 89.091116,
   "end_time": "2022-08-20T10:09:12.347238",
   "environment_variables": {},
   "exception": null,
   "input_path": "__notebook__.ipynb",
   "output_path": "__notebook__.ipynb",
   "parameters": {},
   "start_time": "2022-08-20T10:07:43.256122",
   "version": "2.3.4"
  }
 },
 "nbformat": 4,
 "nbformat_minor": 5
}
